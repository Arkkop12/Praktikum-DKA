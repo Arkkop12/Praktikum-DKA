{
 "cells": [
  {
   "cell_type": "markdown",
   "metadata": {},
   "source": [
    "Arka Dwi Indrastata\n",
    "1203230017\n",
    "IF-03-02"
   ]
  },
  {
   "cell_type": "markdown",
   "metadata": {},
   "source": [
    "# SOAL 1"
   ]
  },
  {
   "cell_type": "markdown",
   "metadata": {},
   "source": [
    "a.  Buat program yang menampilkan kata \"Hello, World!\" pada terminal dengan menggunakan print()"
   ]
  },
  {
   "cell_type": "code",
   "execution_count": 2,
   "metadata": {},
   "outputs": [
    {
     "name": "stdout",
     "output_type": "stream",
     "text": [
      "Hello World!\n"
     ]
    }
   ],
   "source": [
    "print(\"Hello World!\")"
   ]
  },
  {
   "cell_type": "markdown",
   "metadata": {},
   "source": [
    "b. Isi variabel rasio dengan akar dari 9  (9–√) . Tip: untuk menghitung akar pangkat 2 dari  x , dapat menggunakan x**(1/2)"
   ]
  },
  {
   "cell_type": "code",
   "execution_count": null,
   "metadata": {},
   "outputs": [
    {
     "name": "stdout",
     "output_type": "stream",
     "text": [
      "3.0\n"
     ]
    }
   ],
   "source": [
    "akar_sembilan = 9**(1/2) \n",
    "print(akar_sembilan)"
   ]
  },
  {
   "cell_type": "markdown",
   "metadata": {},
   "source": [
    "c. Program di bawah ini menghitung nilai dari persamaan kuadrat  20x2+25x+30  dengan meminta input dari pengguan untuk variabel  x . Minta input pada pengguna dengan deskripsi \"Masukkan nilai x: \", kemudian ubah variabel x menjadi float"
   ]
  },
  {
   "cell_type": "code",
   "execution_count": 3,
   "metadata": {},
   "outputs": [
    {
     "name": "stdout",
     "output_type": "stream",
     "text": [
      "'655'\n"
     ]
    }
   ],
   "source": [
    "x = input(\"Masukkan nilai x: \")  \n",
    "x = float(x)  \n",
    "\n",
    "hasil_persamaan = 20*x**2 + 25*x + 30\n",
    "print(f\"'{int(hasil_persamaan)}'\")\n"
   ]
  },
  {
   "cell_type": "markdown",
   "metadata": {},
   "source": [
    "# SOAL 2"
   ]
  },
  {
   "cell_type": "markdown",
   "metadata": {},
   "source": [
    "a. Buat program untuk mengecek apakah suatu bilangan ganjil atau genap. Jika bilangan tersebut ganjil maka tampilkan \"Bilangan Ganjil\" pada terminal, sedangkan jika bilangan tersebut genap maka tampilkan \"Bilangan Genap\" pada terminal. Minta input pada pengguna dengan deskripsi (tidak ada ketentuan khusus untuk deskripsi), kemudian ubah variabel yang menampung hasil input pengguna menjadi .integer"
   ]
  },
  {
   "cell_type": "code",
   "execution_count": 5,
   "metadata": {},
   "outputs": [
    {
     "name": "stdout",
     "output_type": "stream",
     "text": [
      "Bilangan Genap\n"
     ]
    }
   ],
   "source": [
    "n = input(\"Masukkan sebuah bilangan: \") \n",
    "n = int(n) \n",
    "\n",
    "if n % 2 == 0: \n",
    "    print(\"Bilangan Genap\")\n",
    "else:\n",
    "    print(\"Bilangan Ganjil\")"
   ]
  },
  {
   "cell_type": "markdown",
   "metadata": {},
   "source": [
    "b. Buat program untuk meminta input nilai dari pengguna dalam rentang 0 hingga 100. Program tersebut menerima nilai dan menampilkan indeks huruf dari nilai tersebut pada terminal sesuai dengan kriteria berikut\n",
    "\n",
    "A: 85 - 100\n",
    "B: 70 - 84\n",
    "C: 55 - 69\n",
    "D: 40 - 54\n",
    "E: 0 - 39"
   ]
  },
  {
   "cell_type": "code",
   "execution_count": 17,
   "metadata": {},
   "outputs": [
    {
     "name": "stdout",
     "output_type": "stream",
     "text": [
      "Nilai yang anda masukkan tidak diluar rentang yang diperbolehkan\n"
     ]
    }
   ],
   "source": [
    "nilai = input(\"Masukkan nilai user :\") \n",
    "nilai = float(nilai) \n",
    "\n",
    "if  85 <= nilai <= 100:\n",
    "    print (\"A\")\n",
    "elif 70 <= nilai <= 84:\n",
    "    print (\"B\")\n",
    "elif 55 <= nilai <= 69:\n",
    "    print (\"C\")\n",
    "elif 40 <= nilai <= 54:\n",
    "    print (\"D\")\n",
    "elif 0 <= nilai <= 39:\n",
    "    print (\"E\")\n",
    "else:\n",
    "    print(\"Nilai yang anda masukkan tidak diluar rentang yang diperbolehkan\")\n",
    "\n",
    "\n"
   ]
  },
  {
   "cell_type": "markdown",
   "metadata": {},
   "source": [
    "# SOAL 3"
   ]
  },
  {
   "cell_type": "markdown",
   "metadata": {},
   "source": [
    "a. Buatlah sebuah prosedur yang menerima parameter berupa nama. Jika nama yang diberikan adalah `\"Reza\"`, prosedur akan mencetak output `\"Selamat datang kembali, [nama]\"`. Jika nama yang diberikan bukan \"Reza\", prosedur akan mencetak output `\"Selamat datang, [nama]\"`. Sesuaikan output berdasarkan nama yang diterima oleh parameter."
   ]
  },
  {
   "cell_type": "code",
   "execution_count": null,
   "metadata": {},
   "outputs": [
    {
     "name": "stdout",
     "output_type": "stream",
     "text": [
      "Selamat datang kembali, Reza\n"
     ]
    }
   ],
   "source": [
    "def greet_reza(nama) :\n",
    "    if nama == \"Reza\":\n",
    "        print(f\"Selamat datang kembali, {nama}\")\n",
    "    else :\n",
    "        print(f\"'Selamat datang, {nama}'\")\n",
    "\n",
    "input_nama = input(\"Masukkan nama anda : \") \n",
    "\n",
    "greet_reza (input_nama)"
   ]
  },
  {
   "cell_type": "markdown",
   "metadata": {},
   "source": [
    "b. Buatlah sebuah fungsi sederhana yang mengonversi jarak dari kilometer (KM) menjadi meter (M). Fungsi ini akan menerima input berupa jarak dalam kilometer, kemudian mengembalikan hasil konversi dalam meter."
   ]
  },
  {
   "cell_type": "code",
   "execution_count": 25,
   "metadata": {},
   "outputs": [
    {
     "name": "stdout",
     "output_type": "stream",
     "text": [
      "'3000'\n"
     ]
    }
   ],
   "source": [
    "def konversi(km):  \n",
    "    return km * 1000  \n",
    "\n",
    "jarak_km = input(\"Masukkan jarak (KM): \")  \n",
    "jarak_km = float(jarak_km) \n",
    "\n",
    "hasil_konversi = konversi(jarak_km) \n",
    "print(f\"'{int(hasil_konversi)}'\")  \n"
   ]
  },
  {
   "cell_type": "markdown",
   "metadata": {},
   "source": [
    "# SOAL 4"
   ]
  },
  {
   "cell_type": "markdown",
   "metadata": {},
   "source": [
    "a. Buatlah program yang menerima input dari pengguna berupa sebuah bilangan bulat positif n. Program tersebut harus menampiklan semua bilangan ganjil dari 1 hingga n menggunakan perulangan for dan fungsi range(). Top: gunakan langkah kelipatan 2 dalam range() untuk menampilkan hanya angka ganjil."
   ]
  },
  {
   "cell_type": "code",
   "execution_count": 27,
   "metadata": {},
   "outputs": [
    {
     "name": "stdout",
     "output_type": "stream",
     "text": [
      "'1'\n",
      "'3'\n",
      "'5'\n"
     ]
    }
   ],
   "source": [
    "n = int(input(\"Masukkan n : \"))\n",
    "\n",
    "for i in range(1, n+1, 2):  \n",
    "    print(f\"'{i}'\") "
   ]
  },
  {
   "cell_type": "markdown",
   "metadata": {},
   "source": [
    "b. Buatlah sebuah fungsi yang menerima argumen n dan mengembalikan jumlah dari bilangan bulat dari 1 hingga n. Sebagai contoh, jika n = 5, fungsi tersebut harus menghitung penjumlahan  1+2+3+4+5  dan mengembalikan nilai 15. Jika n kurang dari 1, kembalikan nilai 0. Gunakan perulangan while untuk menghitung jumlah tersebut."
   ]
  },
  {
   "cell_type": "code",
   "execution_count": null,
   "metadata": {},
   "outputs": [
    {
     "name": "stdout",
     "output_type": "stream",
     "text": [
      "'15'\n"
     ]
    }
   ],
   "source": [
    "def jumlahkan_bilangan(n):\n",
    "    if n < 1:  \n",
    "        return 0\n",
    "\n",
    "    else:\n",
    "        total = 0\n",
    "        i = 1\n",
    "        while i <= n:  \n",
    "            total += i \n",
    "            i += 1  \n",
    "\n",
    "        return total \n",
    "\n",
    "\n",
    "n = int(input(\"Masukkan n: \"))\n",
    "\n",
    "hasil = jumlah_hingga_n(n) \n",
    "print(f\"'{hasil}'\")  \n"
   ]
  },
  {
   "cell_type": "markdown",
   "metadata": {},
   "source": [
    "# SOAL 5"
   ]
  },
  {
   "cell_type": "markdown",
   "metadata": {},
   "source": [
    "a. Buat program yang mengganti ekstensi .go menjadi .py pada setiap elemen dalam list filenames. Gunakan metode .replace() untuk mengubah ekstensi, kemudian simpan nama file yang telah diubah ke dalam list baru bernama new_filenames dan kemudian cetak list ke dalam terminal."
   ]
  },
  {
   "cell_type": "code",
   "execution_count": 31,
   "metadata": {},
   "outputs": [
    {
     "name": "stdout",
     "output_type": "stream",
     "text": [
      "['app.py', 'main.py', 'formula.py', 'program.py']\n"
     ]
    }
   ],
   "source": [
    "filenames = [\"app.go\", \"main.go\", \"formula.go\", \"program.go\"]\n",
    "new_filenames = []\n",
    "\n",
    "for filename in filenames:\n",
    "    new_name = filename.replace(\".go\", \".py\")\n",
    "    new_filenames.append(new_name)\n",
    "print(new_filenames)"
   ]
  },
  {
   "cell_type": "markdown",
   "metadata": {},
   "source": [
    "b. Buatlah fungsi email_list yang menerima sebuah dictionary. Dictonary ini berisi nama domain sebagai key, dan daftar pengguna sebagai value. Lengkapi bagian yang kosong dalam fungsi untuk menghasilkan daftar yang berisi alamat email lengkap (misalnya, dwiva.arya@gmail.com). Alamat email ini dihasilkan dengan menggabungkan setiap nama pengguna dengan nama domain yang sesuai."
   ]
  },
  {
   "cell_type": "code",
   "execution_count": 32,
   "metadata": {},
   "outputs": [
    {
     "name": "stdout",
     "output_type": "stream",
     "text": [
      "['rafly.arj@gmail.com', 'syahreza.adnan@gmail.com', 'valen.hartanto@gmail.com', 'sabrina.tiara@telkomuniversity.ac.id', 'imelda@telkomuniversity.ac.id', 'raihan.omen@yahoo.com', 'dito.asyraf@yahoo.com']\n"
     ]
    }
   ],
   "source": [
    "def email_list(domains):\n",
    "    emails = []\n",
    "    for key, value in domains.items():\n",
    "        for user in value:\n",
    "            emails.append(user + \"@\" + key)\n",
    "\n",
    "    return emails\n",
    "\n",
    "\n",
    "email_domain = {\n",
    "    \"gmail.com\": [\"rafly.arj\", \"syahreza.adnan\", \"valen.hartanto\"],\n",
    "    \"telkomuniversity.ac.id\": [\"sabrina.tiara\", \"imelda\"],\n",
    "    \"yahoo.com\": [\"raihan.omen\", \"dito.asyraf\"],\n",
    "}\n",
    "\n",
    "result = email_list(email_domain)\n",
    "\n",
    "print(result)"
   ]
  },
  {
   "cell_type": "markdown",
   "metadata": {},
   "source": [
    "# SOAL 6"
   ]
  },
  {
   "cell_type": "markdown",
   "metadata": {},
   "source": [
    "Seorang guru ingin membuat program sederhana untuk mencatat nilai ujian siswa. Setiap siswa akan mengikuti tiga mata pelajaran. Guru perlu menghitung rata-rata nilai untuk setiap siswa dan menentukan apakah siswa tersebut lulus atau tidak. Kriteria kelulusan adalah jika rata-rata nilai siswa sama dengan atau lebih dair 70."
   ]
  },
  {
   "cell_type": "code",
   "execution_count": 33,
   "metadata": {},
   "outputs": [
    {
     "name": "stdout",
     "output_type": "stream",
     "text": [
      "Rata-rata nilai Arka Dwi Indrastata adalah 73.33333333333333, status: Lulus\n",
      "Data Siswa:\n",
      "Arka Dwi Indrastata:[50, 80, 90], Rata-rata:73.33333333333333, Status:Lulus\n"
     ]
    }
   ],
   "source": [
    "list_siswa = []\n",
    "nilai_siswa = {}\n",
    "\n",
    "\n",
    "while(True):\n",
    "    siswa = input(\"Masukkan nama siswa (atau ketik 'selesai' untuk berhenti): \")\n",
    "    if(siswa.lower() == \"selesai\"):\n",
    "        break \n",
    "    list_siswa.append(siswa)\n",
    "    nilai_pelajaran = []\n",
    "    for i in range(3):\n",
    "        nilai_pelajaran.append(int(input(f\"Masukkan nilai pelajaran {i}: \")))\n",
    "    status = None\n",
    "    rata_rata = sum(nilai_pelajaran) / float(len(nilai_pelajaran))\n",
    "    if( rata_rata>= 70):\n",
    "        status = \"Lulus\"\n",
    "    else:\n",
    "        status = \"Tidak Lulus\"\n",
    "    print(f\"Rata-rata nilai {siswa} adalah {rata_rata}, status: {status}\")\n",
    "    data = (nilai_pelajaran, rata_rata, status)\n",
    "    nilai_siswa.update({siswa:data})\n",
    "    # nilai_pelajaran.clear()\n",
    "print(\"Data Siswa:\")\n",
    "for siswa in list_siswa:\n",
    "    data = nilai_siswa[siswa]\n",
    "    nilai, rata_rata, status = data\n",
    "    print(f\"{siswa}:{nilai}, Rata-rata:{rata_rata}, Status:{status}\")\n",
    "    \n"
   ]
  }
 ],
 "metadata": {
  "kernelspec": {
   "display_name": "Python 3",
   "language": "python",
   "name": "python3"
  },
  "language_info": {
   "codemirror_mode": {
    "name": "ipython",
    "version": 3
   },
   "file_extension": ".py",
   "mimetype": "text/x-python",
   "name": "python",
   "nbconvert_exporter": "python",
   "pygments_lexer": "ipython3",
   "version": "3.13.2"
  }
 },
 "nbformat": 4,
 "nbformat_minor": 2
}
