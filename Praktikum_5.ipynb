{
 "cells": [
  {
   "cell_type": "markdown",
   "metadata": {},
   "source": [
    "<div align='center'>\n",
    "    <h1>Jurnal Praktikum Dasar Kecerdasan Artifisial</h1>\n",
    "    <h2>Arka Dwi Indrastata 1203230017 (IF-03-02)\n",
    "    <h3>Modul 5: Implementasi Breadth First Search dan Depth First Search</h3>\n",
    "</div>"
   ]
  },
  {
   "cell_type": "markdown",
   "metadata": {},
   "source": [
    "### Tujuan Praktikum\n",
    "- Mahasiswa memahami dan mampu mengimplementasikan algoritma *Breadth-First Search* pada Python dengan menggunakan *library* NetworkX.\n",
    "- Mahasiswa memahami dan mampu mengimplementasikan algoritma *Depth-First Search* pada Python dengan menggunakan *library* NetworkX."
   ]
  },
  {
   "cell_type": "markdown",
   "metadata": {},
   "source": [
    "**Jangan lupa untuk selalu import *library* NetworkX ketika memulai sesi baru (run time) atau kode Python yang memerlukan penggunaan library NetworkX**"
   ]
  },
  {
   "cell_type": "markdown",
   "metadata": {},
   "source": [
    "### Import *Library* NetworkX dan Matplotlib\n",
    "\n",
    "*Library* Matplotlib digunakan untuk membantu menampilkan visualisasi graf pada terminal."
   ]
  },
  {
   "cell_type": "code",
   "execution_count": 39,
   "metadata": {},
   "outputs": [],
   "source": [
    "import networkx as nx # Library untuk membuat graf\n",
    "import matplotlib.pyplot as plt # Library untuk plot grafik"
   ]
  },
  {
   "cell_type": "markdown",
   "metadata": {},
   "source": [
    "### Fungsi pendukung untuk mencetak graf \n",
    "\n",
    "#### **!! Tidak usah dimodifikasi !!**"
   ]
  },
  {
   "cell_type": "code",
   "execution_count": 40,
   "metadata": {},
   "outputs": [],
   "source": [
    "# Posisi node\n",
    "pos = {\n",
    "    'PK': (0, 0),\n",
    "    'Terminal': (-1, 1),\n",
    "    'Stasiun': (1, 0), \n",
    "    'Pasar': (-1, -1),\n",
    "    'RS': (2, 0),\n",
    "}"
   ]
  },
  {
   "cell_type": "code",
   "execution_count": 41,
   "metadata": {},
   "outputs": [],
   "source": [
    "# Fungsi pendukung untuk mencetak graf\n",
    "def show_graph(G, pos=None, title='') :\n",
    "  # Membuat pos jika pos tidak diberikan\n",
    "  if pos is None:\n",
    "      pos = nx.spring_layout(G)\n",
    "  \n",
    "  # Fungsi untuk menggambar node\n",
    "  nx.draw(\n",
    "      G,                  # Graf NetworkX\n",
    "      pos,                # Posisi node\n",
    "      with_labels=True,   # Menampilkan nama node \n",
    "      node_color='red',   # Warna node\n",
    "      node_size=3500,     # Ukuran node\n",
    "      font_color=\"white\", # Warna font label node\n",
    "      font_weight=\"bold\", # Ketebalan font label node\n",
    "      width=5             # Ketebalan garis edge\n",
    "  )\n",
    "\n",
    "  # Mengambil label edge jika ada weight\n",
    "  edge_labels = nx.get_edge_attributes(G, 'weight')  \n",
    "  # Fungsi untuk menggambar node\n",
    "  nx.draw_networkx_edge_labels(\n",
    "      G,\n",
    "      pos,\n",
    "      edge_labels=edge_labels, # Data weight\n",
    "      font_color='blue',       # Warna font label edge\n",
    "      font_weight=\"bold\",      # Berat font label edge\n",
    "      font_size=16,            # Ukuran font label edge\n",
    "  )\n",
    "\n",
    "  plt.margins(0.2)  # Memberikan margin pada plot\n",
    "  plt.title(title)  # Menampilkan judul graf jika diberikan\n",
    "  plt.show()        # Menampilkan graf menggunakan matplotlib\n"
   ]
  },
  {
   "cell_type": "markdown",
   "metadata": {},
   "source": [
    "### 1. Implementasi BFS pada *Weighted Undirected Graph* (Bobot Nilai: `50`)"
   ]
  },
  {
   "cell_type": "markdown",
   "metadata": {},
   "source": [
    "Dora adalah seorang penjelajah yang suka berpetualang di kota-kota baru. Kali ini, Dora mengunjungi sebuah kota bernama \"BojongCity\". Kota ini memiliki beberapa titik penting, seperti pusat kota, terminal bus, stasiun kereta, pasar, dan rumah sakit. Semua titik ini dihubungkan oleh jalan dengan jarak tertentu yang diukur dalam kilometer. Dora ingin mengetahui rute terpendek yang harus ia tempuh dari satu titik ke titik lainnya menggunakan jalan yang ada.\n",
    "\n",
    "Bantu Dora untuk membuat program Python yang dapat membantu Dora dengan membuat graf dengan langkah-langkah berikut:"
   ]
  },
  {
   "cell_type": "markdown",
   "metadata": {},
   "source": [
    "**a.** Inisialisasi graf bernama `kota` menggunakan **graf tidak berarah** untuk menunjukkan arah perjalanan."
   ]
  },
  {
   "cell_type": "code",
   "execution_count": 42,
   "metadata": {},
   "outputs": [],
   "source": [
    "# Inisialisasi graf tidak berarah\n",
    "kota = nx.Graph()"
   ]
  },
  {
   "cell_type": "markdown",
   "metadata": {},
   "source": [
    "**b.** Tambahkan node untuk merepresentasikan setiap lokasi penting di kota BojongCity. Berikut ini adalah daftar node yang perlu ditambahkan ke dalam graf:\n",
    "- `PK`: Mewakili **Pusat Kota**.\n",
    "- `Terminal`: Mewakili **Terminal Bus**.\n",
    "- `Stasiun`: Mewakili **Stasiun Kereta**.\n",
    "- `Pasar`: Mewakili **Pasar**.\n",
    "- `RS`: Mewakili **Rumah Sakit**.\n",
    "\n",
    "Pastikan semua node tersebut ditambahkan ke dalam graf sehingga setiap lokasi di kota BojongCity dapat direpresentasikan dengan baik dan nantinya dapat dihubungkan oleh edge untuk menunjukkan rute di antara lokasi-lokasi tersebut."
   ]
  },
  {
   "cell_type": "code",
   "execution_count": 43,
   "metadata": {},
   "outputs": [
    {
     "data": {
      "image/png": "[encoded data removed]",
      "text/plain": [
       "<Figure size 640x480 with 1 Axes>"
      ]
     },
     "metadata": {},
     "output_type": "display_data"
    }
   ],
   "source": [
    "#Tambahkan node untuk merepresentasikan setiap lokasi penting di kota BojongCity\n",
    "nodes = ['PK', 'Terminal', 'Stasiun', 'Pasar', 'RS']\n",
    "\n",
    "# Tambahkan node dari list variabel `nodes` pada graf kota\n",
    "kota.add_nodes_from(nodes)\n",
    "\n",
    "# Tampilkan graf kota setelah penambahan node\n",
    "show_graph(kota, pos=pos, title=\"Penambahan lokasi pada graf kota\")"
   ]
  },
  {
   "cell_type": "markdown",
   "metadata": {},
   "source": [
    "Contoh *output*:\n",
    "\n",
    "![Contoh output penambahan lokasi](./asset/1_tambahlokasi_kota.png)"
   ]
  },
  {
   "cell_type": "markdown",
   "metadata": {},
   "source": [
    "**c.** Pada graf kota, setiap edge mewakili hubungan antara dua lokasi, dan masing-masing hubungan memiliki jarak tempuh tertentu yang direpresentasikan sebagai `weight` pada graf. Berikut ini adalah daftar jarak antar lokasi yang ada di kota tersebut:\n",
    "\n",
    "- `Pusat Kota (PK)` ke `Terminal` memiliki jarak `4km`.\n",
    "- `Pusat Kota (PK)` ke `Stasiun` memiliki jarak `3km`.\n",
    "- `Stasiun` ke `Rumah Sakit (RS)` memiliki jarak `5km`.\n",
    "- `Terminal` ke `Pasar` memiliki jarak `3km`.\n",
    "- `Pasar` ke `Stasiun` memiliki jarak `1km`.\n",
    "- `Terminal` ke `Stasiun` memiliki jarak `6km`.\n",
    "\n",
    "Tugas Anda adalah menambahkan edge ke dalam graf untuk setiap hubungan lokasi yang terdaftar di atas. Pastikan setiap edge mencakup informasi jarak tempuh (weight) sebagai atribut tambahan."
   ]
  },
  {
   "cell_type": "code",
   "execution_count": 45,
   "metadata": {},
   "outputs": [
    {
     "data": {
      "image/png": "[encoded data removed]",
      "text/plain": [
       "<Figure size 640x480 with 1 Axes>"
      ]
     },
     "metadata": {},
     "output_type": "display_data"
    }
   ],
   "source": [
    "# Daftar hubungan (edge) antar lokasi di BojongCity beserta jarak tempuh (weight) masing-masing\n",
    "edges = [\n",
    "    ('PK', 'Terminal', 4),\n",
    "    ('PK', 'Stasiun', 3),\n",
    "    ('Stasiun', 'RS', 5),\n",
    "    ('Terminal', 'Pasar', 3),\n",
    "    ('Pasar', 'Stasiun', 1),\n",
    "    ('Terminal', 'Stasiun', 6)\n",
    "]\n",
    "\n",
    "# Tambahkan edge beserta weightnya ke dalam graf kota\n",
    "kota.add_weighted_edges_from(edges)\n",
    "\n",
    "# Tampilkan graf kota setelah penambahan edge\n",
    "show_graph(kota, pos=pos, title=\"Penambahan harak tempuh pada graf kota\")"
   ]
  },
  {
   "cell_type": "markdown",
   "metadata": {},
   "source": [
    "Contoh *output*:\n",
    "\n",
    "![Contoh output penambahan lokasi](./asset/2_tambahjarak_kota.png)"
   ]
  },
  {
   "cell_type": "markdown",
   "metadata": {},
   "source": [
    "**d.** Pada potongan kode dibawah, buat program yang menampilkan informasi berikut:\n",
    "\n",
    "- **Daftar semua lokasi yang terdapat di BojongCity**: Program menampilkan output daftar lengkap lokasi pada graf.\n",
    "- **Jarak antar lokasi**: Program ini menampilkan output setiap hubungan antara dua lokasi dan mencantumkan jarak tempuh dalam satuan kilometer."
   ]
  },
  {
   "cell_type": "code",
   "execution_count": 46,
   "metadata": {},
   "outputs": [
    {
     "name": "stdout",
     "output_type": "stream",
     "text": [
      "Elemen pada Graf kota\n",
      "Daftar lokasi yang terdapat pada kota: ['PK', 'Terminal', 'Stasiun', 'Pasar', 'RS']\n",
      "\n",
      "PK ke Terminal memiliki jarak 4 km\n",
      "PK ke Stasiun memiliki jarak 3 km\n",
      "Terminal ke Pasar memiliki jarak 3 km\n",
      "Terminal ke Stasiun memiliki jarak 6 km\n",
      "Stasiun ke RS memiliki jarak 5 km\n",
      "Stasiun ke Pasar memiliki jarak 1 km\n"
     ]
    }
   ],
   "source": [
    "print(\"Elemen pada Graf kota\")\n",
    "# Menampilkan daftar semua lokasi (node) yang terdapat pada graf kota\n",
    "print(\"Daftar lokasi yang terdapat pada kota:\", list(kota.nodes))\n",
    "\n",
    "print()  # Menambahkan baris kosong (biarkan kosong)\n",
    "\n",
    "# Loop melalui setiap edge pada graf untuk menampilkan informasi jarak (weight) antar lokasi\n",
    "# Setiap edge memiliki format (asal, tujuan, data), di mana `data` menyimpan atribut dari edge tersebut.\n",
    "for asal, tujuan, data in kota.edges(data=True):\n",
    "    print(asal, \"ke\", tujuan, \"memiliki jarak\", data['weight'], \"km\")\n"
   ]
  },
  {
   "cell_type": "markdown",
   "metadata": {},
   "source": [
    "Contoh *output*:\n",
    "\n",
    "```\n",
    "Elemen pada Graf kota\n",
    "Daftar lokasi yang terdapat pada kota ['PK', 'Terminal', 'Stasiun', 'Pasar', 'RS']\n",
    "\n",
    "PK ke Terminal memiliki jarak 4 km\n",
    "PK ke Stasiun memiliki jarak 3 km\n",
    "Terminal ke Pasar memiliki jarak 3 km\n",
    "Terminal ke Stasiun memiliki jarak 6 km\n",
    "Stasiun ke RS memiliki jarak 5 km\n",
    "Stasiun ke Pasar memiliki jarak 1 km\n",
    "```"
   ]
  },
  {
   "cell_type": "markdown",
   "metadata": {},
   "source": [
    "**e.** Dora ingin mengetahui urutan perjalanan di kota BojongCity menggunakan algoritma `Breadth-First Search (BFS)`, dimulai dari `Pusat Kota (PK)` sebagai titik awal. Tugas anda adalah menampilkan daftar **edge** yang dilalui oleh algoritma BFS saat menjelajahi semua lokasi di kota, mulai dari node `PK`."
   ]
  },
  {
   "cell_type": "code",
   "execution_count": 47,
   "metadata": {},
   "outputs": [
    {
     "name": "stdout",
     "output_type": "stream",
     "text": [
      "[('PK', 'Terminal'), ('PK', 'Stasiun'), ('Terminal', 'Pasar'), ('Stasiun', 'RS')]\n"
     ]
    }
   ],
   "source": [
    "print(list(nx.bfs_edges(kota, source='PK')))"
   ]
  },
  {
   "cell_type": "markdown",
   "metadata": {},
   "source": [
    "Contoh *output*:\n",
    "\n",
    "```\n",
    "[('PK', 'Terminal'), ('PK', 'Stasiun'), ('Terminal', 'Pasar'), ('Stasiun', 'RS')]\n",
    "```"
   ]
  },
  {
   "cell_type": "markdown",
   "metadata": {},
   "source": [
    "**f.** Buatlah sebuah fungsi `bfs_search(bfs_tree, start, end)` yang dapat membangun jalur dari node awal (`start`) dan node tujuan (`end`) berdasarkan struktur `bfs_tree` yang diberikan.\n",
    "\n",
    "Fungsi `bfs_search()` harus melakukan langkah-langkah berikut :\n",
    "- Mulai dari `end` dan telusuri mundur ke `start` menggunakan informasi `parent-child` pada `bfs_tree`.\n",
    "- Simpan jalur yang ditemukan pada list `path`\n",
    "- Jika node `start` berhasil ditemukan, kembalikan `path` yang menunjukkan urutan dari node `start` ke `end`."
   ]
  },
  {
   "cell_type": "code",
   "execution_count": 48,
   "metadata": {},
   "outputs": [],
   "source": [
    "def bfs_search(bfs_tree, start, end):\n",
    "    # Inisialisasi list kosong untuk menampung jalur yang ditempuh\n",
    "    path = []\n",
    "\n",
    "    # Mulai dari node tujuan\n",
    "    current_node = end\n",
    "\n",
    "    # Telusuri jalur mundur dari end ke start\n",
    "    while current_node != start:\n",
    "        path.append(current_node)  # Tambahkan node ke dalam jalur\n",
    "        current_node = bfs_tree[current_node]  # Ambil parent dari node tersebut\n",
    "\n",
    "    # Tambahkan node awal setelah mencapai start\n",
    "    path.append(start)\n",
    "\n",
    "    # Balik urutan agar dari start ke end\n",
    "    path.reverse()\n",
    "\n",
    "    return path\n"
   ]
  },
  {
   "cell_type": "markdown",
   "metadata": {},
   "source": [
    "**g.** Buatlah sebuah fungsi `calculate_total_distance(graph, path)` yang akan menghitung total jarak tempuh dari jalur `path` pada graf `graph`. Berikut adalah langkah-langkah yang harus dilakukan dalam fungsi `calculate_total_distance()`:\n",
    "- Inisialisasi variabel `total_distance` sebagai 0.\n",
    "- Lakukan loop untuk mengiterasi pada setiap node pada `path` (kecuali node terakhir).\n",
    "- Ambil jarak tempuh dari edge yang menghubungkan node saat ini (`node_awal`) ke node berikutnya (`node_tujuan`).\n",
    "- Tambahkan weight tersebut ke dalam `total_distance`."
   ]
  },
  {
   "cell_type": "code",
   "execution_count": 49,
   "metadata": {},
   "outputs": [],
   "source": [
    "# Fungsi untuk menghitung total jarak dari node awal ke tujuan\n",
    "def calculate_total_distance(graph, path):\n",
    "    total_distance = 0  # Inisialisasi jarak total\n",
    "\n",
    "    # Loop melalui setiap node dalam path dan jumlahkan weight dari setiap edge yang dilalui\n",
    "    for i in range(len(path) - 1):\n",
    "        node_awal = path[i]         # Node awal\n",
    "        node_tujuan = path[i + 1]   # Node tujuan\n",
    "\n",
    "        # Tambahkan weight dari edge yang menghubungkan node_awal ke node_tujuan\n",
    "        total_distance += graph[node_awal][node_tujuan]['weight']\n",
    "\n",
    "    return total_distance\n"
   ]
  },
  {
   "cell_type": "markdown",
   "metadata": {},
   "source": [
    "**h.** Buatlah sebuah program yang meminta input dari pengguna untuk menentukan:\n",
    "- **Node awal** (`start_node`): Titik awal perjalanan Dora di kota BojongCity.\n",
    "- **Node tujuan** (`end_node`): Titik tujuan yang ingin dicapai oleh Dora.\n",
    "\n",
    "Gunakan algoritma BFS untuk menelusuri graf yang mewakili kota, dimulai dari `start_node`. Simpan hasil BFS dalma bentuk pasang node (`bfs_edges`) yang menunjukkan jalur pencarian dari node awal ke node-node yang terhubung.\n",
    "\n",
    "Tampilkan hasil pencarian BFS (`bfs_edge`) yang menunjukkan semua node yang dikunjungi dan hubungan antar node yang ditemukan selama pencarian BFS dimulai dari `start_node`."
   ]
  },
  {
   "cell_type": "code",
   "execution_count": 50,
   "metadata": {},
   "outputs": [
    {
     "name": "stdout",
     "output_type": "stream",
     "text": [
      "Pasar disimpan sebagai lokasi awal\n",
      "PK disimpan sebagai lokasi tujuan\n",
      "Hasil pencarian BFS dari lokasi awal: [('Pasar', 'Terminal'), ('Pasar', 'Stasiun'), ('Terminal', 'PK'), ('Stasiun', 'RS')]\n"
     ]
    }
   ],
   "source": [
    "# Minta input dari pengguna untuk titik awal dan titik tujuan\n",
    "start_node = input(\"Masukkan node awal: \")\n",
    "end_node = input(\"Masukkan node tujuan: \")\n",
    "\n",
    "# Temukan rute terpendek menggunakan algoritma BFS\n",
    "# Menggunakan bfs_edges untuk mendapatkan jalur BFS dari node awal\n",
    "bfs_edges = list(nx.bfs_edges(kota, source=start_node))\n",
    "\n",
    "print(f\"{start_node} disimpan sebagai lokasi awal\")\n",
    "print(f\"{end_node} disimpan sebagai lokasi tujuan\")\n",
    "print(\"Hasil pencarian BFS dari lokasi awal:\", bfs_edges)\n"
   ]
  },
  {
   "cell_type": "markdown",
   "metadata": {},
   "source": [
    "Contoh *output*:\n",
    "\n",
    "|input|output|\n",
    "|-----|------|\n",
    "|Masukkan titik awal: `Pasar`<br>Masukkan titk tujuan: `PK`|Pasar disimpan sebagai lokasi awal<br>PK disimpan sebagai lokasi tujuan<br>Hasil pencarian BFS dari lokasi awal: [('Pasar', 'Terminal'), ('Pasar', 'Stasiun'), ('Terminal', 'PK'), ('Stasiun', 'RS')]|\n",
    "|Masukkan titik awal: `Terminal`<br>Masukkan titk tujuan: `Stasiun`|Terminal disimpan sebagai lokasi awal<br>Stasiun disimpan sebagai lokasi tujuan<br>Hasil pencarian BFS dari lokasi awal: [('Terminal', 'PK'), ('Terminal', 'Pasar'), ('Terminal', 'Stasiun'), ('Stasiun', 'RS')]|"
   ]
  },
  {
   "cell_type": "markdown",
   "metadata": {},
   "source": [
    "**i.** Buatlah deskripsi dictionary bernama `bfs_tree` yang menyimpan hubungan parent-child dari hasil BFS, Setiap key dalam dictionary `bfs_tree` mewakili node child (tujuan), dan value-nya mewakili node parent (asal).\n",
    "\n",
    "Gunakan pasangan node (`u`, `v`) yang diberikan oleh `bfs_edges` untuk membangun `bfs_tree`. Setiap pasangan(`u`, `v`) berarti :\n",
    "- `u` adalah parent dari `v`.\n",
    "- `v` adalah child dari `u`."
   ]
  },
  {
   "cell_type": "code",
   "execution_count": 51,
   "metadata": {},
   "outputs": [],
   "source": [
    "# Buat dictionary untuk melacak jalur dari titik awal ke semua node yang dikunjungi\n",
    "bfs_tree = {}\n",
    "for u, v in bfs_edges:\n",
    "    bfs_tree[v] = u"
   ]
  },
  {
   "cell_type": "markdown",
   "metadata": {},
   "source": [
    "**j.** Sekarang, Dora ingin mengetahui rute terpendek dari lokasi awal (`start_node`) ke lokasi tujuan (`end_node`) berdasarkan hasil penelusuran BFS tersebut. Selain itu, Dora juga ingin mengetahui tempat mana saja yang harus ia kunjungi. Selain itu, Dora juga ingin mengetahui total jarak tempuh dari jalur yang ditemukan agar ia dapat mempersiapkan dirinya.\n",
    "\n",
    "Buatlah program yang dapat menemukan rute terpendek dari node awal ke node tujuan menggunakan hasil penelurusan `bfs_tree` yang sudah dibuat dan program untuk menghitung total jarak tembuh dari jalu tersebut berdasarkan `weight` dari setiap edge yang dilalui dengan langkah-langkah berikut:\n",
    "- Gunakan fungsi `bfs_search()` untuk menemukan rute dari `start_node` ke `end_node`.\n",
    "- Jika terdapat jalur dari `start_node` ke `end_node`, hitung total jarak tempuh dari jalur tersebut menggunakan fungsi `calculate_total_distance()`.\n",
    "- Tampilkan rute terpendek dan total jarak tempuh yang ditemukan."
   ]
  },
  {
   "cell_type": "code",
   "execution_count": 52,
   "metadata": {},
   "outputs": [
    {
     "name": "stdout",
     "output_type": "stream",
     "text": [
      "Rute terpendek dari Pasar ke PK: ['Pasar', 'Terminal', 'PK']\n",
      "Total jarak tempuh: 7 km\n"
     ]
    }
   ],
   "source": [
    "# Temukan jalur dari titik awal ke titik tujuan\n",
    "shortest_path = bfs_search(bfs_tree, start_node, end_node)\n",
    "\n",
    "# Jika jalur ditemukan, hitung total jarak berdasarkan rute yang ditemukan\n",
    "if shortest_path:\n",
    "    total_distance = calculate_total_distance(kota, shortest_path)\n",
    "    print(f\"Rute terpendek dari {start_node} ke {end_node}: {shortest_path}\")\n",
    "    print(f\"Total jarak tempuh: {total_distance} km\")\n",
    "else:\n",
    "    print(f\"Tidak ditemukan rute dari {start_node} ke {end_node}.\")\n"
   ]
  },
  {
   "cell_type": "markdown",
   "metadata": {},
   "source": [
    "Contoh *output*:\n",
    "\n",
    "Jika sebelumnya memberikan input `Terminal` sebagai titik awal dan `Stasiun` sebagai titik tujuan\n",
    "```\n",
    "Rute terpendek dari Terminal ke Stasiun: ['Terminal', 'Stasiun']\n",
    "Total jarak tempuh: 6 km\n",
    "```\n",
    "\n",
    "Jika sebelumnya memberikan input `Pasar` sebagai titik awal dan `PK` sebagai titik tujuan\n",
    "```\n",
    "Rute terpendek dari Pasar ke PK: ['Pasar', 'Terminal', 'PK']\n",
    "Total jarak tempuh: 7 km\n",
    "```\n"
   ]
  },
  {
   "cell_type": "markdown",
   "metadata": {},
   "source": [
    "### 2. Implementasi DFS pada *Tree* (Bobot Nilai: `50`)\n",
    "\n",
    "Budi adalah seorang mahasiswa yang sering bekerja dengan banyak folder dan file di laptopnya. Sebagai seorang mahasiswa yang aktif dalam berbagai kegiatan akademis dan organisasi, folder di laptop Budi serngkali menjadi sangat rumit dan bercabang-cabang, dengan banyak sub-folder dan file yang tersebar di berbagai tempat.\n",
    "\n",
    "Anda diminta untuk membuat sebuah program yang dapat membantu Budi melakukan penelusuran direktori menggunakan algoritma DFS. Program ini diharapkan dapat mempermudah Budi dalam menemukan file yang ia cari."
   ]
  },
  {
   "cell_type": "markdown",
   "metadata": {},
   "source": [
    "**Jangan lupa untuk selalu import *library* NetworkX ketika memulai sesi baru (run time) atau kode Python yang memerlukan penggunaan library NetworkX**"
   ]
  },
  {
   "cell_type": "markdown",
   "metadata": {},
   "source": [
    "### Import *Library* NetworkX dan Matplotlib\n",
    "\n",
    "*Library* Matplotlib digunakan untuk membantu menampilkan visualisasi graf pada terminal."
   ]
  },
  {
   "cell_type": "code",
   "execution_count": 53,
   "metadata": {},
   "outputs": [],
   "source": [
    "import networkx as nx # Library untuk membuat graf\n",
    "import matplotlib.pyplot as plt # Library untuk plot grafik"
   ]
  },
  {
   "cell_type": "markdown",
   "metadata": {},
   "source": [
    "### Fungsi pendukung untuk mencetak graf \n",
    "\n",
    "#### **!! Tidak usah dimodifikasi !!**"
   ]
  },
  {
   "cell_type": "code",
   "execution_count": 54,
   "metadata": {},
   "outputs": [],
   "source": [
    "pos = {\n",
    "    \"Root\": (0, 0),\n",
    "    \"Documents\": (-1, -1),\n",
    "    \"Images\": (1, -1),\n",
    "    \"Videos\": (2, -1),\n",
    "    \"File1.txt\": (-1, -2),\n",
    "    \"File4.docx\": (-1.5, -2),\n",
    "    \"File2.jpg\": (1, -2),\n",
    "    \"File3.mp4\": (2, -2)\n",
    "}"
   ]
  },
  {
   "cell_type": "code",
   "execution_count": 55,
   "metadata": {},
   "outputs": [],
   "source": [
    "# Fungsi pendukung untuk mencetak graf\n",
    "def show_graph(G, pos=None, title='') :\n",
    "  # Membuat pos jika pos tidak diberikan\n",
    "  if pos is None:\n",
    "      pos = nx.spring_layout(G)\n",
    "  \n",
    "  # Fungsi untuk menggambar node\n",
    "  nx.draw(\n",
    "      G,                  # Graf NetworkX\n",
    "      pos,                # Posisi node\n",
    "      with_labels=True,   # Menampilkan nama node \n",
    "      node_color='red',   # Warna node\n",
    "      node_size=2000,     # Ukuran node\n",
    "      font_color=\"white\", # Warna font label node\n",
    "      font_weight=\"bold\",\n",
    "      font_size=7,\n",
    "      width=5             # Ketebalan garis edge\n",
    "  )\n",
    "\n",
    "  # Mengambil label edge jika ada weight\n",
    "  edge_labels = nx.get_edge_attributes(G, 'weight')  \n",
    "  # Fungsi untuk menggambar node\n",
    "  nx.draw_networkx_edge_labels(\n",
    "      G,\n",
    "      pos,\n",
    "      edge_labels=edge_labels, # Data weight\n",
    "      font_color='blue',       # Warna font label edge\n",
    "      font_weight=\"bold\",      # Berat font label edge\n",
    "      font_size=16,            # Ukuran font label edge\n",
    "  )\n",
    "\n",
    "  plt.margins(0.2)  # Memberikan margin pada plot\n",
    "  plt.title(title)  # Menampilkan judul graf jika diberikan\n",
    "  plt.show()        # Menampilkan graf menggunakan matplotlib"
   ]
  },
  {
   "cell_type": "markdown",
   "metadata": {},
   "source": [
    "**a.** Inisialisasi graf bernama \"data_budi\" menggunakan **graf berarah** untuk menunjukkan arah perjalanan."
   ]
  },
  {
   "cell_type": "code",
   "execution_count": 57,
   "metadata": {},
   "outputs": [],
   "source": [
    "# Inisialisasi graf berarah\n",
    "data_budi = nx.DiGraph()"
   ]
  },
  {
   "cell_type": "markdown",
   "metadata": {},
   "source": [
    "**b.** Tambahkan node ke dalam graf yang merepresentasikan folder dan file. Folder tersebut terdiri dari `Root`, `Documents`, `Images`, `Videos`, `File1.txt`, `File2.jpg`, `File3.mp4`, `File4.docx`."
   ]
  },
  {
   "cell_type": "code",
   "execution_count": 58,
   "metadata": {},
   "outputs": [
    {
     "data": {
      "image/png": "[encoded data removed]",
      "text/plain": [
       "<Figure size 640x480 with 1 Axes>"
      ]
     },
     "metadata": {},
     "output_type": "display_data"
    }
   ],
   "source": [
    "# List daftar nama file dan folder yang terdapat pada laptop Budi\n",
    "nodes = pos\n",
    "\n",
    "# Tambahkan node dari list variabel `nodes` pada graf data_budi\n",
    "data_budi.add_nodes_from(nodes)\n",
    "\n",
    "# Tampilkan graf data_budi setelah penambahan node\n",
    "show_graph(data_budi, pos=pos, title=\"Penambahan file dan folder pada graf data_Budi\")"
   ]
  },
  {
   "cell_type": "markdown",
   "metadata": {},
   "source": [
    "Contoh *output*:\n",
    "\n",
    "![Contoh output penambahan lokasi](./asset/3_tambahfilefolder_databudi.png)"
   ]
  },
  {
   "cell_type": "markdown",
   "metadata": {},
   "source": [
    "**c.** Berikut adalah daftar isi dari setiap folder. Hubungkan tree berdasarkan isi dari setiap folder pada laptop Budi.\n",
    "- `Root` berisi `Documents`, `Images`, dan `Videos`.\n",
    "- `Documents` berisi `File4.docx` dan `File1.txt`.\n",
    "- `Images` berisi `File2.jpg`.\n",
    "- `Videos` berisi `File3.mp4`."
   ]
  },
  {
   "cell_type": "code",
   "execution_count": 29,
   "metadata": {},
   "outputs": [
    {
     "data": {
      "image/png": "[encoded data removed]",
      "text/plain": [
       "<Figure size 640x480 with 1 Axes>"
      ]
     },
     "metadata": {},
     "output_type": "display_data"
    }
   ],
   "source": [
    "# Daftar isi dari setiap folder yang direpresentasikan dengan edge.\n",
    "edges = [\n",
    "    (\"Root\", \"Documents\"),\n",
    "    (\"Root\", \"Images\"),\n",
    "    (\"Root\", \"Videos\"),\n",
    "    (\"Documents\", \"File4.docx\"),\n",
    "    (\"Documents\", \"File1.txt\"),\n",
    "    (\"Images\", \"File2.jpg\"),\n",
    "    (\"Videos\", \"File3.mp4\")\n",
    "]\n",
    "\n",
    "# Tambahkan edge ke dalam graf data_budi\n",
    "data_budi.add_edges_from(edges)\n",
    "\n",
    "# Tampilkan graf data_budi setelah penambahan edge\n",
    "show_graph(data_budi, pos=pos, title=\"SPenambahan hubungan folder dengan isinya\")"
   ]
  },
  {
   "cell_type": "markdown",
   "metadata": {},
   "source": [
    "Contoh *output*:\n",
    "\n",
    "![Contoh output penambahan lokasi](./asset/4_tambahedgefolder_databudi.png)"
   ]
  },
  {
   "cell_type": "markdown",
   "metadata": {},
   "source": [
    "**d.** Buat sebuah program yang memanfaatkan tree `data_budi` untuk mencetak setiap folder beserta daftar isi dari folder tersebut."
   ]
  },
  {
   "cell_type": "code",
   "execution_count": 30,
   "metadata": {},
   "outputs": [
    {
     "name": "stdout",
     "output_type": "stream",
     "text": [
      "Daftar Folder beserta isinya di laptop Budi\n",
      "- Root berisi: ['Documents', 'Images', 'Videos']\n",
      "- Documents berisi: ['File4.docx', 'File1.txt']\n",
      "- Images berisi: ['File2.jpg']\n",
      "- Videos berisi: ['File3.mp4']\n"
     ]
    }
   ],
   "source": [
    "print(\"Daftar Folder beserta isinya di laptop Budi\")\n",
    "\n",
    "# Iterasi untuk setiap node (folder/file) yang ada di graf `data_budi`\n",
    "for node in data_budi.nodes() :\n",
    "    # Ambil semua node yang terhubung dengan node saat ini (anak-anak dari folder)\n",
    "    children = list(data_budi.neighbors(node))\n",
    "\n",
    "    # Jika folder memiliki isi (memiliki anak), tampilkan daftarnya\n",
    "    if children:\n",
    "        # Tampilkan folder beserta daftar isinya\n",
    "        print(f\"- {node} berisi: {children}\")"
   ]
  },
  {
   "cell_type": "markdown",
   "metadata": {},
   "source": [
    "Contoh *output* :\n",
    "\n",
    "```\n",
    "Daftar Folder beserta isinya di laptop Budi\n",
    "- Root berisi: ['Documents', 'Images', 'Videos']\n",
    "- Documents berisi: ['File1.txt', 'File4.docx']\n",
    "- Images berisi: ['File2.jpg']\n",
    "- Videos berisi: ['File3.mp4']\n",
    "```"
   ]
  },
  {
   "cell_type": "markdown",
   "metadata": {},
   "source": [
    "**e.** Tampilkan urutan **folder dan file** yang dilalui dengan node asal `Root` menggunakan algoritma DFS yang disediakan dari NetworkX."
   ]
  },
  {
   "cell_type": "code",
   "execution_count": 31,
   "metadata": {},
   "outputs": [
    {
     "name": "stdout",
     "output_type": "stream",
     "text": [
      "[('Root', 'Documents'), ('Documents', 'File4.docx'), ('Documents', 'File1.txt'), ('Root', 'Images'), ('Images', 'File2.jpg'), ('Root', 'Videos'), ('Videos', 'File3.mp4')]\n"
     ]
    }
   ],
   "source": [
    "# Menampilkan urutan edge yang dilalui dari node Root menggunakan DFS\n",
    "dfs_edges = list(nx.dfs_edges(data_budi, source='Root'))\n",
    "\n",
    "# Menampilkan urutan edge yang dilalui\n",
    "print(dfs_edges)"
   ]
  },
  {
   "cell_type": "markdown",
   "metadata": {},
   "source": [
    "Contoh *output* :\n",
    "```\n",
    "[('Root', 'Documents'), ('Documents', 'File1.txt'), ('Documents', 'File4.docx'), ('Root', 'Images'), ('Images', 'File2.jpg'), ('Root', 'Videos'), ('Videos', 'File3.mp4')]\n",
    "```"
   ]
  },
  {
   "cell_type": "markdown",
   "metadata": {},
   "source": [
    "**f.** Buatlah sebuah fungsi `dfs_search(graph, start, goal)` yang akan mencari dan menampilkan jalur dari node awal (`start`) ke node tujuan (`goal`) menggunakan algoritma DFS dengan deskripsi berikut:\n",
    "- Gunakan stack untuk menyimpan node yang akan ditelusuri.\n",
    "- Setiap elemen pada stack menyimpan `(current_node, path)` yang terdiri dari node saat ini dan jalur yang ditempuh hingga node tersebut.\n",
    "- Lakukan iterasi DFS dengan memproses node terakhir dari stack.\n",
    "- Jika `current_node` sama dengan `goal`, kembalikan jalur (`path`) yang telah ditemukan.\n",
    "- Jika node saat ini memiliki tetangga yang belum dikunjungi, tambahkan tetangga tersebut ke stack."
   ]
  },
  {
   "cell_type": "code",
   "execution_count": 32,
   "metadata": {},
   "outputs": [],
   "source": [
    "def dfs_search(graph, start, goal):\n",
    "    # Inisialisasi stack dengan tuple (node saat ini, jalur yang ditempuh)\n",
    "    stack = [(start, [start])]\n",
    "    \n",
    "    # Iterasi selama stack tidak kosong\n",
    "    while stack:\n",
    "        # Ambil node terakhir dari stack bersama jalurnya\n",
    "        current_node, path = stack.pop()\n",
    "        \n",
    "        # Jika node saat ini adalah node tujuan, kembalikan jalur yang ditemukan\n",
    "        if current_node == goal:\n",
    "            return path\n",
    "        \n",
    "        # Tambahkan semua node tetangga yang belum dikunjungi ke stack\n",
    "        for neighbor in graph.neighbors(current_node):\n",
    "            # Pastikan tetangga belum ada di path untuk menghindari loop\n",
    "            if neighbor not in path: \n",
    "                # Tambahkan tetangga ke stack dengan jalur baru\n",
    "                stack.append((neighbor, path + [neighbor]))  \n",
    "\n",
    "    # Jika tidak ada jalur yang ditemukan, kembalikan None\n",
    "    return None"
   ]
  },
  {
   "cell_type": "markdown",
   "metadata": {},
   "source": [
    "**g.** Buatlah sebuah program yang dapat melakukan langkah-langkah berikut:\n",
    "- Meminta input pengguna sebagai titik awal folder pada variabel `start_node`.\n",
    "- Meminta input pengguna untuk file yang dicari pada variabel `end_node`.\n",
    "- Gunakan fungsi `dfs_search()` untuk menemukan urutan folder yang harus dikunjungi.\n",
    "- Jika terdapat jalur dari `start_node` ke `end_node`, tampilkan folder mana saja yang harus dikunjungi."
   ]
  },
  {
   "cell_type": "code",
   "execution_count": 33,
   "metadata": {},
   "outputs": [
    {
     "name": "stdout",
     "output_type": "stream",
     "text": [
      "Rute yang harus dilalui dari Root ke File2.jpg: ['Root', 'Images', 'File2.jpg']\n"
     ]
    }
   ],
   "source": [
    "# Minta input dari pengguna untuk node awal dan node tujuan\n",
    "start_node = input(\"Masukkan nama folder awal: \")\n",
    "end_node = input(\"Masukkan nama file yang dicari: \")\n",
    "\n",
    "# Temukan jalur dari titik awal ke titik tujuan menggunakan DFS\n",
    "path = dfs_search(data_budi, start_node, end_node)\n",
    "\n",
    "# Tampilkan hasil penelusuran\n",
    "if path:\n",
    "    print(f\"Rute yang harus dilalui dari {start_node} ke {end_node}: {path}\")\n",
    "else:\n",
    "    print(f\"Tidak ada rute yang menghubungkan {start_node} ke {end_node}.\")"
   ]
  },
  {
   "cell_type": "markdown",
   "metadata": {},
   "source": [
    "Contoh *output*:\n",
    "\n",
    "|input|output|\n",
    "|-----|------|\n",
    "|Masukkan folder/file awal: `Root`<br>Masukkan folder/file tujuan: `File2.jpg`|Rute yang harus dilalui dari Root ke File2.jpg: ['Root', 'Images', 'File2.jpg']|\n",
    "|Masukkan folder/file awal: `Root`<br>Masukkan folder/file tujuan: `File4.docx`|Rute yang harus dilalui dari Root ke File4.docx: ['Root', 'Documents', 'File4.docx']|"
   ]
  }
 ],
 "metadata": {
  "kernelspec": {
   "display_name": "Python 3",
   "language": "python",
   "name": "python3"
  },
  "language_info": {
   "codemirror_mode": {
    "name": "ipython",
    "version": 3
   },
   "file_extension": ".py",
   "mimetype": "text/x-python",
   "name": "python",
   "nbconvert_exporter": "python",
   "pygments_lexer": "ipython3",
   "version": "3.13.2"
  }
 },
 "nbformat": 4,
 "nbformat_minor": 2
}
