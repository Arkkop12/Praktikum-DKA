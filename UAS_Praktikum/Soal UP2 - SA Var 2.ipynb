{
 "cells": [
  {
   "cell_type": "markdown",
   "metadata": {
    "id": "u4fKqMAMm0Xf"
   },
   "source": [
    " Soal: Pengaturan Letak Sensor di Area 2D\n",
    "Letakkan 5 sensor dalam area 10x10 sehingga saling berjauhan sejauh mungkin. Gunakan SA untuk meminimalkan total tumpang tindih antar sensor.\n",
    "\n",
    "$$\n",
    "\\text{jarak}(a, b) = \\sqrt{(x_1 - x_2)^2 + (y_1 - y_2)^2}\n",
    "$$"
   ]
  },
  {
   "cell_type": "code",
   "execution_count": 10,
   "metadata": {
    "id": "U8vMKsiclCgw"
   },
   "outputs": [],
   "source": [
    "import random, math  "
   ]
  },
  {
   "cell_type": "code",
   "execution_count": 11,
   "metadata": {
    "id": "01uFCuogm80a"
   },
   "outputs": [],
   "source": [
    "def distance(a, b):\n",
    "    return math.sqrt((a[0] - b[0])**2 + (a[1] - b[1])**2)"
   ]
  },
  {
   "cell_type": "code",
   "execution_count": 12,
   "metadata": {
    "id": "kBNMWP-DnFKY"
   },
   "outputs": [],
   "source": [
    "def evaluate(sensors):\n",
    "    overlap = 0\n",
    "    for i in range(len(sensors)):\n",
    "        for j in range(i+1, len(sensors)):\n",
    "            if distance(sensors[i], sensors[j]) < 1:\n",
    "                overlap += 1\n",
    "    return overlap"
   ]
  },
  {
   "cell_type": "code",
   "execution_count": 13,
   "metadata": {
    "id": "zyreSTEenGyk"
   },
   "outputs": [],
   "source": [
    "def simulated_annealing_sensors(T=100, alpha=0.95):\n",
    "    sensors = [(random.uniform(0, 10), random.uniform(0, 10)) for _ in range(5)]  \n",
    "    current_score = evaluate(sensors)  \n",
    "    while T > 0.01 and current_score > 0:  \n",
    "        new_sensors = sensors[:]  \n",
    "        i = random.randint(0, 4)\n",
    "        new_sensors[i] = (random.uniform(0, 10), random.uniform(0, 10))\n",
    "\n",
    "        new_score = evaluate(new_sensors)\n",
    "        delta = current_score - new_score\n",
    "        \n",
    "        if delta < 0 or math.exp(-delta / T) > random.random():\n",
    "            sensors = new_sensors\n",
    "            current_score = new_score\n",
    "\n",
    "        T *= alpha\n",
    "    \n",
    "    return sensors, current_score"
   ]
  },
  {
   "cell_type": "code",
   "execution_count": 14,
   "metadata": {
    "id": "aaVfN--pnIzu"
   },
   "outputs": [
    {
     "name": "stdout",
     "output_type": "stream",
     "text": [
      "Sensor positions: [(9.114005886870814, 6.671146952433544), (5.472167629073494, 5.897622765121572), (1.356401166281297, 3.9817171266242237), (6.819294617591497, 6.513130501641784), (6.889979509261187, 8.626572641953787)]\n",
      "Total overlap: 0\n"
     ]
    }
   ],
   "source": [
    "# Jalankan algoritma Simulated Annealing\n",
    "sensors, score = simulated_annealing_sensors()\n",
    "\n",
    "# Cetak hasil\n",
    "print(f\"Sensor positions: {sensors}\")\n",
    "print(f\"Total overlap: {score}\")"
   ]
  }
 ],
 "metadata": {
  "colab": {
   "authorship_tag": "ABX9TyMtmmiiHNvDB3C70dD+4jOc",
   "provenance": []
  },
  "kernelspec": {
   "display_name": "Python 3",
   "name": "python3"
  },
  "language_info": {
   "codemirror_mode": {
    "name": "ipython",
    "version": 3
   },
   "file_extension": ".py",
   "mimetype": "text/x-python",
   "name": "python",
   "nbconvert_exporter": "python",
   "pygments_lexer": "ipython3",
   "version": "3.13.2"
  }
 },
 "nbformat": 4,
 "nbformat_minor": 0
}
