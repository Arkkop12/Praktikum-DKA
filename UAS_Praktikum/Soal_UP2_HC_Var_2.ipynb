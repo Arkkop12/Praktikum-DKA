{
 "cells": [
  {
   "cell_type": "markdown",
   "metadata": {
    "id": "aaXX7-aLcaiD"
   },
   "source": [
    "### Soal: Pencarian Jalur di Graf\n",
    "Implementasikan algoritma Hill Climbing untuk mencari jalur dari node A ke G pada graf berbobot. Pilih tetangga dengan edge cost terkecil pada setiap langkah.\n",
    "\n"
   ]
  },
  {
   "cell_type": "code",
   "execution_count": 9,
   "metadata": {
    "id": "SlGQecT4cWwr"
   },
   "outputs": [],
   "source": [
    "graph = {\n",
    "    'A': {'B': 2, 'C': 3},\n",
    "    'B': {'D': 4},\n",
    "    'C': {'D': 1, 'F': 2},\n",
    "    'D': {'E': 5},\n",
    "    'E': {'F': 2},\n",
    "    'F': {'G': 3},\n",
    "    'G': {}\n",
    "}"
   ]
  },
  {
   "cell_type": "code",
   "execution_count": 10,
   "metadata": {
    "id": "Q5H6Xdqlcqdv"
   },
   "outputs": [],
   "source": [
    "def hill_climb_path(graph, start, goal):\n",
    "    path = [start]\n",
    "    current = start\n",
    "    visited = set()\n",
    "\n",
    "    while current != goal:\n",
    "        neighbors = graph[current]\n",
    "        min_cost = float('inf')\n",
    "        next_node = None \n",
    "\n",
    "        for n, cost in neighbors.items():\n",
    "            if n not in visited and cost < min_cost:\n",
    "                min_cost = cost\n",
    "                next_node = n\n",
    "\n",
    "        if next_node is None:\n",
    "            break\n",
    "        \n",
    "        path.append(next_node)\n",
    "        visited.add(current)\n",
    "        current = next_node\n",
    "    \n",
    "    return path\n"
   ]
  },
  {
   "cell_type": "code",
   "execution_count": 11,
   "metadata": {
    "id": "B80pcGWrcsJl"
   },
   "outputs": [
    {
     "name": "stdout",
     "output_type": "stream",
     "text": [
      "A -> B -> D -> E -> F -> G\n"
     ]
    }
   ],
   "source": [
    "path = hill_climb_path(graph, 'A', 'G')\n",
    "if path:\n",
    "    print(\" -> \".join(path))\n",
    "else:\n",
    "    print(\"Tidak ada jalur yang ditemukan.\")"
   ]
  }
 ],
 "metadata": {
  "colab": {
   "provenance": []
  },
  "kernelspec": {
   "display_name": "Python 3",
   "name": "python3"
  },
  "language_info": {
   "codemirror_mode": {
    "name": "ipython",
    "version": 3
   },
   "file_extension": ".py",
   "mimetype": "text/x-python",
   "name": "python",
   "nbconvert_exporter": "python",
   "pygments_lexer": "ipython3",
   "version": "3.13.2"
  }
 },
 "nbformat": 4,
 "nbformat_minor": 0
}
